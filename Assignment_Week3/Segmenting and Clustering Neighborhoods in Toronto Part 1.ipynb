   "cell_type": "markdown",
   "metadata": {},
   "source": [
    "## Hello, i hope you are happy. but i dont use this file anymore"
   ]
